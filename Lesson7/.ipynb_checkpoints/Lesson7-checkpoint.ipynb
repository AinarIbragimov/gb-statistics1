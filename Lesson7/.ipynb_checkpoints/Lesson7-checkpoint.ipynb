{
 "cells": [
  {
   "cell_type": "markdown",
   "metadata": {},
   "source": [
    "## 1. Даны значения величины заработной платы заемщиков банка (zp) и значения их поведенческого кредитного скоринга (ks): zp = [35, 45, 190, 200, 40, 70, 54, 150, 120, 110], ks = [401, 574, 874, 919, 459, 739, 653, 902, 746, 832]. Используя математические операции, посчитать коэффициенты линейной регрессии, приняв за X заработную плату (то есть, zp - признак), а за y - значения скорингового балла (то есть, ks - целевая переменная). Произвести расчет как с использованием intercept, так и без."
   ]
  },
  {
   "cell_type": "code",
   "execution_count": 2,
   "metadata": {},
   "outputs": [],
   "source": [
    "import numpy as np\n",
    "import seaborn as sns"
   ]
  },
  {
   "cell_type": "code",
   "execution_count": 3,
   "metadata": {},
   "outputs": [],
   "source": [
    "zp = np.array([35, 45, 190, 200, 40, 70, 54, 150, 120, 110])\n",
    "ks = np.array([401, 574, 874, 919, 459, 739, 653, 902, 746, 832])"
   ]
  },
  {
   "cell_type": "code",
   "execution_count": 4,
   "metadata": {},
   "outputs": [
    {
     "data": {
      "text/plain": [
       "<matplotlib.axes._subplots.AxesSubplot at 0x1b283c68ec8>"
      ]
     },
     "execution_count": 4,
     "metadata": {},
     "output_type": "execute_result"
    },
    {
     "data": {
      "image/png": "[encoded data removed]",
      "text/plain": [
       "<Figure size 432x288 with 1 Axes>"
      ]
     },
     "metadata": {
      "needs_background": "light"
     },
     "output_type": "display_data"
    }
   ],
   "source": [
    "sns.scatterplot(x=zp, y=ks)"
   ]
  },
  {
   "cell_type": "markdown",
   "metadata": {},
   "source": [
    "y = a + bx\n",
    "\n",
    "Найдём коэффициенты регрессии a и b:"
   ]
  },
  {
   "cell_type": "code",
   "execution_count": 5,
   "metadata": {},
   "outputs": [
    {
     "name": "stdout",
     "output_type": "stream",
     "text": [
      "Коэффициент b = 2.620538882402765\n"
     ]
    }
   ],
   "source": [
    "b = (np.mean(zp * ks) - np.mean(zp) * np.mean(ks)) / (np.mean(zp ** 2) - np.mean(zp) ** 2)\n",
    "print(f'Коэффициент b = {b}')"
   ]
  },
  {
   "cell_type": "code",
   "execution_count": 6,
   "metadata": {},
   "outputs": [
    {
     "name": "stdout",
     "output_type": "stream",
     "text": [
      "Коэффициент a = 444.1773573243596\n"
     ]
    }
   ],
   "source": [
    "a = np.mean(ks) - b * np.mean(zp)\n",
    "print(f'Коэффициент a = {a}')"
   ]
  },
  {
   "cell_type": "code",
   "execution_count": 7,
   "metadata": {},
   "outputs": [
    {
     "name": "stdout",
     "output_type": "stream",
     "text": [
      "Уравнение линейной регрессии имеет следующий вид: y = 444.1773573243596 + 2.620538882402765*x\n"
     ]
    }
   ],
   "source": [
    "print(f'Уравнение линейной регрессии имеет следующий вид: y = {a} + {b}*x')"
   ]
  },
  {
   "cell_type": "code",
   "execution_count": 8,
   "metadata": {},
   "outputs": [
    {
     "data": {
      "text/plain": [
       "<matplotlib.axes._subplots.AxesSubplot at 0x1b285405d48>"
      ]
     },
     "execution_count": 8,
     "metadata": {},
     "output_type": "execute_result"
    },
    {
     "data": {
      "image/png": "[encoded data removed]",
      "text/plain": [
       "<Figure size 432x288 with 1 Axes>"
      ]
     },
     "metadata": {
      "needs_background": "light"
     },
     "output_type": "display_data"
    }
   ],
   "source": [
    "sns.scatterplot(x=zp, y=ks)\n",
    "x1 = np.linspace(0, 200, 10)\n",
    "y1 = a + b * x1\n",
    "sns.lineplot(x=x1, y=y1)"
   ]
  },
  {
   "cell_type": "markdown",
   "metadata": {},
   "source": [
    "Построим уравнение линейной регрессии без интерсепта:"
   ]
  },
  {
   "cell_type": "markdown",
   "metadata": {},
   "source": [
    "rss = (401 - 35b)^2 + (574 - 45b)^2 + (874 - 190b)^2 + (919 - 200b)^2 + (459 - 40b)^2 + (739 - 70b)^2 + (653 - 54b)^2 + (902 - 150b)^2 + (746 - 120b)^2 + (832 - 110b)^2"
   ]
  },
  {
   "cell_type": "markdown",
   "metadata": {},
   "source": [
    "rss = 5344269 - 1622834 * b + 137766 * b^2 "
   ]
  },
  {
   "cell_type": "markdown",
   "metadata": {},
   "source": [
    "drss/db = -1622834 + 2 * 137766 * b"
   ]
  },
  {
   "cell_type": "code",
   "execution_count": 9,
   "metadata": {},
   "outputs": [
    {
     "data": {
      "text/plain": [
       "5.889820420132689"
      ]
     },
     "execution_count": 9,
     "metadata": {},
     "output_type": "execute_result"
    }
   ],
   "source": [
    "b2 = 1622834 / 137766 / 2\n",
    "b2"
   ]
  },
  {
   "cell_type": "code",
   "execution_count": 10,
   "metadata": {},
   "outputs": [
    {
     "name": "stdout",
     "output_type": "stream",
     "text": [
      "Уравнение линейной регрессии имеет следующий вид: y = 5.889820420132689*x\n"
     ]
    }
   ],
   "source": [
    "print(f'Уравнение линейной регрессии имеет следующий вид: y = {b2}*x')"
   ]
  },
  {
   "cell_type": "code",
   "execution_count": 11,
   "metadata": {},
   "outputs": [
    {
     "data": {
      "text/plain": [
       "<matplotlib.axes._subplots.AxesSubplot at 0x1b2854a3b08>"
      ]
     },
     "execution_count": 11,
     "metadata": {},
     "output_type": "execute_result"
    },
    {
     "data": {
      "image/png": "[encoded data removed]",
      "text/plain": [
       "<Figure size 432x288 with 1 Axes>"
      ]
     },
     "metadata": {
      "needs_background": "light"
     },
     "output_type": "display_data"
    }
   ],
   "source": [
    "sns.scatterplot(x=zp, y=ks)\n",
    "x2 = np.linspace(0, 200, 10)\n",
    "y2 = b2 * x2\n",
    "sns.lineplot(x=x2, y=y2)"
   ]
  },
  {
   "cell_type": "markdown",
   "metadata": {},
   "source": [
    "## 2. Посчитать коэффициент линейной регрессии при заработной плате (zp), используя градиентный спуск (без intercept)."
   ]
  },
  {
   "cell_type": "code",
   "execution_count": 12,
   "metadata": {},
   "outputs": [],
   "source": [
    "n = 8"
   ]
  },
  {
   "cell_type": "code",
   "execution_count": 13,
   "metadata": {},
   "outputs": [],
   "source": [
    "alpha = 1e-6"
   ]
  },
  {
   "cell_type": "code",
   "execution_count": 14,
   "metadata": {},
   "outputs": [],
   "source": [
    "def mse (b1, x=zp, y=ks, n=n):\n",
    "    return np.sum((b1 * x - y) ** 2) / n"
   ]
  },
  {
   "cell_type": "code",
   "execution_count": 15,
   "metadata": {},
   "outputs": [],
   "source": [
    "b1 = 10000"
   ]
  },
  {
   "cell_type": "code",
   "execution_count": 16,
   "metadata": {},
   "outputs": [
    {
     "name": "stdout",
     "output_type": "stream",
     "text": [
      "Iteration 0: b1 = 9655.78785425\n",
      "Iteration 500: b1 = 5.890056913200305\n",
      "Iteration 1000: b1 = 5.889820420138484\n",
      "Iteration 1500: b1 = 5.889820420132701\n",
      "Iteration 2000: b1 = 5.889820420132701\n",
      "Iteration 2500: b1 = 5.889820420132701\n",
      "Iteration 3000: b1 = 5.889820420132701\n",
      "Iteration 3500: b1 = 5.889820420132701\n",
      "Iteration 4000: b1 = 5.889820420132701\n",
      "Iteration 4500: b1 = 5.889820420132701\n",
      "Iteration 5000: b1 = 5.889820420132701\n",
      "Iteration 5500: b1 = 5.889820420132701\n",
      "Iteration 6000: b1 = 5.889820420132701\n",
      "Iteration 6500: b1 = 5.889820420132701\n",
      "Iteration 7000: b1 = 5.889820420132701\n",
      "Iteration 7500: b1 = 5.889820420132701\n",
      "Iteration 8000: b1 = 5.889820420132701\n",
      "Iteration 8500: b1 = 5.889820420132701\n",
      "Iteration 9000: b1 = 5.889820420132701\n",
      "Iteration 9500: b1 = 5.889820420132701\n"
     ]
    }
   ],
   "source": [
    "for i in range(10000):\n",
    "    b1 -= alpha * 2 / n * np.sum((b1 * zp - ks) * zp)\n",
    "    if i%500 == 0:\n",
    "        print(f'Iteration {i}: b1 = {b1}')"
   ]
  },
  {
   "cell_type": "markdown",
   "metadata": {},
   "source": [
    "## 3. В каких случаях для вычисления доверительных интервалов и проверки статистических гипотез используется таблица значений функции Лапласа, а в каких - таблица критических точек распределения Стьюдента? "
   ]
  },
  {
   "cell_type": "markdown",
   "metadata": {},
   "source": [
    "Таблица критических точек распределения Стьюдента используется, если $\\sigma$ - среднее квадратичное отклонение неизвестно. Если $\\sigma$ известно, используется z-таблица."
   ]
  }
 ],
 "metadata": {
  "kernelspec": {
   "display_name": "Python 3",
   "language": "python",
   "name": "python3"
  },
  "language_info": {
   "codemirror_mode": {
    "name": "ipython",
    "version": 3
   },
   "file_extension": ".py",
   "mimetype": "text/x-python",
   "name": "python",
   "nbconvert_exporter": "python",
   "pygments_lexer": "ipython3",
   "version": "3.7.7"
  }
 },
 "nbformat": 4,
 "nbformat_minor": 4
}
